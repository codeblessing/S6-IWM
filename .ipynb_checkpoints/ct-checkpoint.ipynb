{
 "cells": [
  {
   "cell_type": "markdown",
   "metadata": {},
   "source": [
    "# Symulator tomografu komputerowego\n",
    "\n",
    "**Data:** xx.03.2022\n",
    "\n",
    "**Autorzy:**\n",
    "\n",
    "Jakub Kwiatkowski 145356\\\n",
    "Paweł Strzelczyk 145217\n",
    "\n",
    "## Abstrakt\n",
    "\n",
    "`TODO`\n",
    "\n",
    "#### Wykorzystane technologie\n",
    "\n",
    "- [python](https://python.org) (v3.10)\n",
    "- [jupyter notebooks](https://jupyter.org)\n"
   ]
  },
  {
   "cell_type": "code",
   "execution_count": null,
   "metadata": {},
   "outputs": [],
   "source": [
    "from ipywidgets import interact\n",
    "import cv2 as cv\n",
    "import ipywidgets\n",
    "import numpy as np\n",
    "import pydicom as dcm\n",
    "import matplotlib.pylab as plt\n",
    "import math\n",
    "from skimage import io, draw\n",
    "from ct_utils import bresenham"
   ]
  },
  {
   "cell_type": "code",
   "execution_count": null,
   "metadata": {},
   "outputs": [],
   "source": [
    "# TODO: Transform image into sinogram (Radon transform)"
   ]
  },
  {
   "cell_type": "code",
   "execution_count": null,
   "metadata": {},
   "outputs": [],
   "source": [
    "# TODO: Draw sinograph (sinogram visualization, every column in sinograph corresponds to row in sinogram)"
   ]
  },
  {
   "cell_type": "code",
   "execution_count": null,
   "metadata": {},
   "outputs": [],
   "source": [
    "def normalize(image):\n",
    "        max_val = np.amax(image)\n",
    "        image = image / max_val * 255\n",
    "        \n",
    "        return image / 255.0\n",
    "\n",
    "sinogram = cv.imread('data/sin_sample.png', cv.IMREAD_GRAYSCALE)\n",
    "print('sinogram')\n",
    "io.imshow(sinogram)\n",
    "\n",
    "# TODO: Inverse Radon transform (function should take number of iterations as argument)\n",
    "# step - Δα (a)\n",
    "# phi - angular span of detectors (c)\n",
    "# img_size - output image size, radon transform changes dimensions\n",
    "# detectors - number of detectors for one set (b)\n",
    "def inverse_radon(sinogram, step=4, detectors=200, phi=180, img_size=0):\n",
    "    \n",
    "    # output image as np.array\n",
    "    image = np.zeros((img_size, img_size))\n",
    "    \n",
    "    # transform to radians\n",
    "    step = np.deg2rad(step)\n",
    "    phi = np.deg2rad(phi)\n",
    "\n",
    "    # radius //można potem ramke dołożyć\n",
    "    r = img_size / 2\n",
    "\n",
    "    # number of iterations \n",
    "    iterations = math.ceil(2 * np.pi / step)\n",
    "\n",
    "    alpha = 0\n",
    "    for iteration in range(iterations):\n",
    "        \n",
    "        # E = [x_e, y_e]\n",
    "        x_e = r * np.cos(alpha)\n",
    "        y_e = r * np.sin(alpha)\n",
    "        \n",
    "        # emitter position\n",
    "        x_e, y_e = x_e + r, y_e + r\n",
    "\n",
    "        for i in range(detectors):\n",
    "            \n",
    "            # D = [x_d, y_d]\n",
    "            x_d = r * np.cos(alpha + np.pi - phi / 2 + i * (phi / (detectors - 1)))\n",
    "            y_d = r * np.sin(alpha + np.pi - phi / 2 + i * (phi / (detectors - 1)))\n",
    "            \n",
    "            # detector position\n",
    "            x_d, y_d = x_d + r, y_d + r\n",
    "            \n",
    "            # ------------------\n",
    "            # line_nd draw is faster imo\n",
    "            # line = draw.line_nd([x_e, y_e], [x_d, y_d])\n",
    "            # image[line[1], line[0]] += sinogram[iteration, i]\n",
    "            # ------------------\n",
    "            \n",
    "            # bresenham line\n",
    "            line = bresenham([x_e.astype('int'), y_e.astype('int')], [x_d.astype('int'), y_d.astype('int')])\n",
    "            \n",
    "            xs = []\n",
    "            ys = []\n",
    "            \n",
    "            # points on the line coordinates\n",
    "            for x, y in line:\n",
    "                xs = np.append(xs, x)\n",
    "                ys = np.append(ys, y)\n",
    "            \n",
    "            xs = xs.astype('int')\n",
    "            ys = ys.astype('int')\n",
    "\n",
    "            # transform\n",
    "            image[ys, xs] += sinogram[iteration, i]\n",
    "\n",
    "        # next step - change angle\n",
    "        alpha += step\n",
    "\n",
    "    image = normalize(image)\n",
    "\n",
    "    return image\n",
    "\n"
   ]
  },
  {
   "cell_type": "code",
   "execution_count": null,
   "metadata": {
    "scrolled": true
   },
   "outputs": [],
   "source": [
    "img = inverse_radon(sinogram, img_size=128)\n",
    "\n",
    "print('reconstructed')\n",
    "io.imshow(img);"
   ]
  },
  {
   "cell_type": "code",
   "execution_count": null,
   "metadata": {},
   "outputs": [],
   "source": []
  }
 ],
 "metadata": {
  "interpreter": {
   "hash": "09d953defeb11c15c88389064dcd889d33fb9ff6e6bd72840c73aac58d7139c4"
  },
  "kernelspec": {
   "display_name": "Python 3 (ipykernel)",
   "language": "python",
   "name": "python3"
  },
  "language_info": {
   "codemirror_mode": {
    "name": "ipython",
    "version": 3
   },
   "file_extension": ".py",
   "mimetype": "text/x-python",
   "name": "python",
   "nbconvert_exporter": "python",
   "pygments_lexer": "ipython3",
   "version": "3.9.7"
  }
 },
 "nbformat": 4,
 "nbformat_minor": 2
}
