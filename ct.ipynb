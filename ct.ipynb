{
 "cells": [
  {
   "cell_type": "markdown",
   "metadata": {},
   "source": [
    "# Symulator tomografu komputerowego\n",
    "\n",
    "**Data:** xx.03.2022\n",
    "\n",
    "**Autorzy:**\n",
    "\n",
    "Jakub Kwiatkowski 145356\\\n",
    "Paweł Strzelczyk 145217\n",
    "\n",
    "## Abstrakt\n",
    "\n",
    "`TODO`\n",
    "\n",
    "#### Wykorzystane technologie\n",
    "\n",
    "- [python](https://python.org) (v3.10)\n",
    "- [jupyter notebooks](https://jupyter.org)\n"
   ]
  },
  {
   "cell_type": "code",
   "execution_count": 1,
   "metadata": {},
   "outputs": [],
   "source": [
    "from ipywidgets import interact\n",
    "import ipywidgets\n",
    "import numpy as np\n",
    "import pydicom as dcm\n",
    "import matplotlib.pylab as plt"
   ]
  },
  {
   "cell_type": "code",
   "execution_count": 2,
   "metadata": {},
   "outputs": [],
   "source": [
    "# TODO: Transform image into sinogram (Radon transform)"
   ]
  },
  {
   "cell_type": "code",
   "execution_count": null,
   "metadata": {},
   "outputs": [],
   "source": [
    "# TODO: Draw sinograph (sinogram visualization, every column in sinograph corresponds to row in sinogram)"
   ]
  },
  {
   "cell_type": "code",
   "execution_count": null,
   "metadata": {},
   "outputs": [],
   "source": [
    "# TODO: Inverse Radon transform (function should take number of iterations as argument)"
   ]
  }
 ],
 "metadata": {
  "interpreter": {
   "hash": "09d953defeb11c15c88389064dcd889d33fb9ff6e6bd72840c73aac58d7139c4"
  },
  "kernelspec": {
   "display_name": "Python 3.10.0b3 ('.venv': pipenv)",
   "language": "python",
   "name": "python3"
  },
  "language_info": {
   "codemirror_mode": {
    "name": "ipython",
    "version": 3
   },
   "file_extension": ".py",
   "mimetype": "text/x-python",
   "name": "python",
   "nbconvert_exporter": "python",
   "pygments_lexer": "ipython3",
   "version": "3.10.0b3"
  },
  "orig_nbformat": 4
 },
 "nbformat": 4,
 "nbformat_minor": 2
}
