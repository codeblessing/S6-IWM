{
 "cells": [
  {
   "cell_type": "code",
   "execution_count": 2,
   "metadata": {},
   "outputs": [],
   "source": [
    "def detector_positions(alpha: float, phi: float, count: int, shape: tuple[int, int]) -> list[tuple[int, int]]:\n",
    "    \"\"\"\n",
    "    Calculates locations of detectors in a fan-beam CT scanner.\n",
    "\n",
    "    :param alpha: Emitter's angular position angle (in radians).\n",
    "    :param phi: Detectors' angular span (in radians) [measured from circle's center].\n",
    "    :param count: Number of detectors.\n",
    "    :param shape: Image size (x, y).\n",
    "    :return: List of detector positions (x, y).    \n",
    "    \"\"\"\n",
    "\n",
    "    from numpy import pi as PI, cos, sin, sqrt, round, int64\n",
    "\n",
    "    w, h = shape\n",
    "    radius = round(sqrt(w ** 2 + h ** 2) / 2).astype(int64)\n",
    "\n",
    "    # We assume that detectors are laid evenly on arc drawn by `phi`.\n",
    "    #\n",
    "    # Because we want evenly-spaced detectors:\n",
    "    #   step = arc length / segment no.\n",
    "    # where arc length is de facto phi (as it is expressed in radians)\n",
    "    # and segment no. is count - 1 (last detector is on edge so it doesn't count)\n",
    "    angular_step = phi / (count - 1)\n",
    "\n",
    "    # We assume center of detectors' fan is exactly vis-a-vis the emitter position.\n",
    "    start_angle = alpha + PI - (phi / 2)\n",
    "\n",
    "    x = lambda index: round(cos(start_angle + angular_step * index) * radius).astype(int64) + (w // 2)\n",
    "    y = lambda index: round(sin(start_angle + angular_step * index) * radius).astype(int64) + (h // 2)\n",
    "\n",
    "    return [(x(no), y(no)) for no in range(count)]\n",
    "\n",
    "\n",
    "def emitter_position(alpha: float, shape: tuple[int, int]) -> list[tuple[int, int]]:\n",
    "    \"\"\"\n",
    "    Calculates emitter's location in a fan-beam CT scanner.\n",
    "\n",
    "    :param alpha: Emitter's angular position (in radians).\n",
    "    :param shape: Image size (x, y).\n",
    "    :return: Emitter's position (x, y).\n",
    "    \"\"\"\n",
    "\n",
    "    from numpy import cos, sin, sqrt, round, int64\n",
    "\n",
    "    w, h = shape\n",
    "    radius = round(sqrt(w ** 2 + h ** 2) / 2).astype(int64)\n",
    "\n",
    "    x = round(cos(alpha) * radius).astype(int64) + (w // 2)\n",
    "    y = round(sin(alpha) * radius).astype(int64) + (h // 2)\n",
    "\n",
    "    return (x, y)"
   ]
  },
  {
   "cell_type": "code",
   "execution_count": 3,
   "metadata": {},
   "outputs": [
    {
     "name": "stdout",
     "output_type": "stream",
     "text": [
      "Emitter (α = 0) (9, 3)\n",
      "Emitter (α = π / 4) (8, 7)\n",
      "Emitter (α = π / 2) (4, 8)\n",
      "Emitter (α = π) (-1, 3)\n",
      "Detectors (α = 0) (4, 8) (0, 7) (-1, 3) (0, -1) (4, -2)\n",
      "Detectors (α = π) (4, -2) (8, -1) (9, 3) (8, 7) (4, 8)\n"
     ]
    }
   ],
   "source": [
    "# region TEST PURPOSE ONLY\n",
    "\n",
    "from numpy import pi\n",
    "\n",
    "emitter = emitter_position(0.0, (8, 6))\n",
    "print(\"Emitter (α = 0)\", emitter)\n",
    "emitter = emitter_position(pi / 4, (8, 6))\n",
    "print(\"Emitter (α = π / 4)\", emitter)\n",
    "emitter = emitter_position(pi / 2, (8, 6))\n",
    "print(\"Emitter (α = π / 2)\", emitter)\n",
    "emitter = emitter_position(pi, (8, 6))\n",
    "print(\"Emitter (α = π)\", emitter)\n",
    "\n",
    "detectors = detector_positions(0.0, pi, 5, (8, 6))\n",
    "print(\"Detectors (α = 0)\", *detectors)\n",
    "detectors = detector_positions(pi, pi, 5, (8, 6))\n",
    "print(\"Detectors (α = π)\", *detectors)\n",
    "\n",
    "# endregion TEST PURPOSE ONLY"
   ]
  },
  {
   "cell_type": "code",
   "execution_count": 4,
   "metadata": {},
   "outputs": [],
   "source": [
    "def scanlines(bounds: tuple[int, int], emitter: tuple[int, int], detectors: list[tuple[int,\n",
    "                                                                                       int]]) -> list[list[list[int]]]:\n",
    "    \"\"\"\n",
    "    Calculates scanlines (pixels in ray path) for a CT scanner.\n",
    "\n",
    "    :param bounds: Image's bounds (x, y).\n",
    "    :param emitter: Emitter's position (x, y).\n",
    "    :param detectors: List of detector positions (x, y).\n",
    "\n",
    "    :return: List of scanlines (list of lists of pixels in ray path (one for every detector)).\n",
    "\n",
    "    This function automatically removes pixels not in the image's bounds.\n",
    "    \"\"\"\n",
    "\n",
    "    from skimage.draw import line_nd\n",
    "\n",
    "    w, h = bounds\n",
    "\n",
    "    in_bounds = lambda point: point[0] >= 0 and point[0] < w and point[1] >= 0 and point[1] < h\n",
    "\n",
    "    ex, ey = emitter\n",
    "\n",
    "    # line_nd uses transposed coordinates (y, x), so we need to swap them.\n",
    "    lines = [list(filter(in_bounds, zip(*line_nd((d[1], d[0]), (ey, ex))))) for d in detectors]\n",
    "\n",
    "    return [[x for x in zip(*line)] for line in lines]\n",
    "\n",
    "\n",
    "from numpy import ndarray\n",
    "\n",
    "\n",
    "def radon_for(image: ndarray, alpha: float, phi: float, count: int):\n",
    "    \"\"\"\n",
    "    Calculates Radon transform of an image for given alpha angle.\n",
    "\n",
    "    :param alpha: Emitter's angular position (in radians)\n",
    "    :param phi: Detectors' angular span [measured from circle's center] (in radians).\n",
    "    :param count: Number of detectors.\n",
    "    \"\"\"\n",
    "\n",
    "    from numpy import sum\n",
    "\n",
    "    w, h = image.shape[:2]\n",
    "\n",
    "    emitters = emitter_position(alpha, (w, h))\n",
    "    detectors = detector_positions(alpha, phi, count, (w, h))\n",
    "    lines = scanlines((w, h), emitters, detectors)\n",
    "\n",
    "    row = []\n",
    "    for line in lines:\n",
    "        if len(line) == 0:\n",
    "            row.append(0)\n",
    "            continue\n",
    "        r, c = line\n",
    "        row.append(sum(image[r, c]))\n",
    "\n",
    "    return row\n",
    "\n",
    "\n",
    "def radon(image: ndarray, phi: int, step: int, count: int) -> ndarray:\n",
    "    \"\"\"\n",
    "    Calculates Radon transform of an image for given alpha angle.\n",
    "\n",
    "    :param phi: Detectors' angular span [measured from circle's center] (in degrees).\n",
    "    :param step: Step size (in degrees).\n",
    "    :param count: Number of detectors.\n",
    "    \"\"\"\n",
    "\n",
    "    from numpy import deg2rad, arange, array, pi\n",
    "\n",
    "    phi = deg2rad(phi)\n",
    "    step = deg2rad(step)\n",
    "\n",
    "    sinogram = []\n",
    "\n",
    "    for angle in arange(0, pi * 2, step):\n",
    "        sinogram.append([angle] + radon_for(image, angle, phi, count))\n",
    "\n",
    "    return array(sinogram)"
   ]
  },
  {
   "cell_type": "code",
   "execution_count": null,
   "metadata": {},
   "outputs": [],
   "source": [
    "def read_from_dicom(filename) -> ndarray:\n",
    "    \"\"\"\n",
    "    Reads pixel data from DICOM file and returns it as ndarray.\n",
    "\n",
    "    WARNING: Currently this function assumes that image is single and in grayscale.\n",
    "    !!! COLOR & MULTIPLANAR IMAGES ARE NOT SUPPORTED !!!\n",
    "    \"\"\"\n",
    "\n",
    "    from pydicom import dcmread\n",
    "\n",
    "    contents = dcmread(filename)\n",
    "\n",
    "    return contents.pixel_array\n",
    "\n",
    "\n",
    "def write_to_dicom(filename, image: ndarray, data: dict):\n",
    "    \"\"\"\n",
    "    Writes data to DICOM file.\n",
    "\n",
    "    :param image: image data in form of ndarray.\n",
    "    WARNING: Currently this function assumes that image is single and in grayscale.\n",
    "    !!! COLOR & MULTIPLANAR IMAGES ARE NOT SUPPORTED !!!\n",
    "\n",
    "    :param data: Dictionary with keys \"id\", \"name\", \"date\", \"comments\" \n",
    "    \"\"\"\n",
    "    from skimage.util import img_as_ubyte\n",
    "    from pydicom.uid import generate_uid, ExplicitVRLittleEndian\n",
    "    from pydicom._storage_sopclass_uids import CTImageStorage\n",
    "    from pydicom.dataset import validate_file_meta\n",
    "    from pydicom import Dataset, FileDataset\n",
    "\n",
    "    image = img_as_ubyte(image)\n",
    "\n",
    "    # Populate required values for file meta information\n",
    "    meta = Dataset()\n",
    "    meta.MediaStorageSOPClassUID = CTImageStorage\n",
    "    meta.MediaStorageSOPInstanceUID = generate_uid()\n",
    "    meta.TransferSyntaxUID = ExplicitVRLittleEndian\n",
    "\n",
    "    ds = FileDataset(None, {}, preamble = b\"\\0\" * 128)\n",
    "    ds.file_meta = meta\n",
    "\n",
    "    ds.is_little_endian = True\n",
    "    ds.is_implicit_VR = False\n",
    "\n",
    "    ds.SOPClassUID = CTImageStorage\n",
    "    ds.SOPInstanceUID = meta.MediaStorageSOPInstanceUID\n",
    "\n",
    "    ds.PatientID = data[\"id\"]\n",
    "    ds.PatientName = data[\"name\"]\n",
    "    ds.StudyDate = data[\"date\"]\n",
    "    ds.ImageComments = data[\"comments\"]\n",
    "\n",
    "    ds.Modality = \"CT\"\n",
    "    ds.SeriesInstanceUID = generate_uid()\n",
    "    ds.StudyInstanceUID = generate_uid()\n",
    "    ds.FrameOfReferenceUID = generate_uid()\n",
    "\n",
    "    ds.BitsStored = 8\n",
    "    ds.BitsAllocated = 8\n",
    "    ds.SamplesPerPixel = 1\n",
    "    ds.HighBit = 7\n",
    "\n",
    "    ds.ImagesInAcquisition = 1\n",
    "    ds.InstanceNumber = 1\n",
    "\n",
    "    ds.Rows, ds.Columns = image.shape\n",
    "\n",
    "    ds.ImageType = r\"ORIGINAL\\PRIMARY\\AXIAL\"\n",
    "\n",
    "    ds.PhotometricInterpretation = \"MONOCHROME2\"\n",
    "    ds.PixelRepresentation = 0\n",
    "\n",
    "    validate_file_meta(ds.file_meta, enforce_standard = True)\n",
    "\n",
    "    ds.PixelData = image.tobytes()\n",
    "\n",
    "    ds.save_as(filename, write_like_original = False)"
   ]
  },
  {
   "cell_type": "code",
   "execution_count": null,
   "metadata": {},
   "outputs": [],
   "source": [
    "# region TEST PURPOSE ONLY\n",
    "\n",
    "def _test_dicom_read():\n",
    "    from matplotlib.pylab import imshow\n",
    "    _test_image = read_from_dicom(\"data/CT_ScoutView.dcm\")\n",
    "\n",
    "    imshow(_test_image, cmap = \"gray\")\n",
    "\n",
    "def _test_dicom_write():\n",
    "    from cv2 import imread, IMREAD_GRAYSCALE\n",
    "    from datetime import date, time\n",
    "\n",
    "    image = imread('data/phantom.png', IMREAD_GRAYSCALE)\n",
    "\n",
    "    patient = {\n",
    "        \"id\": \"JLO2022\",\n",
    "        \"name\": \"John Logan\",\n",
    "        \"date\": date(2022, 3, 29),\n",
    "        \"comments\": \"Quite weird head, don't you think?\"\n",
    "    }\n",
    "\n",
    "    write_to_dicom(\"data/writes/jlo.dcm\", image, patient)\n",
    "\n",
    "_test_dicom_read()\n",
    "_test_dicom_write()\n",
    "\n",
    "# endregion TEST PURPOSE ONLY"
   ]
  },
  {
   "cell_type": "code",
   "execution_count": 5,
   "metadata": {},
   "outputs": [
    {
     "data": {
      "application/vnd.jupyter.widget-view+json": {
       "model_id": "1d231746bb2847d19c51525bada9cbcf",
       "version_major": 2,
       "version_minor": 0
      },
      "text/plain": [
       "VBox(children=(IntSlider(value=180, description='Phi: ', max=270, min=45, step=45), IntSlider(value=1, descrip…"
      ]
     },
     "metadata": {},
     "output_type": "display_data"
    }
   ],
   "source": [
    "import cv2 as cv\n",
    "from matplotlib.pylab import imshow, figure\n",
    "from matplotlib import pyplot as plt\n",
    "import ipywidgets\n",
    "from IPython.display import clear_output\n",
    "\n",
    "detectors_slider = ipywidgets.IntSlider(value = 74, min = 0, max = 720, step = 1, description = \"Detectors: \")\n",
    "phi_slider = ipywidgets.IntSlider(value = 180, min = 45, max = 270, step = 45, description = \"Phi: \")\n",
    "step_slider = ipywidgets.IntSlider(value = 1, min = 1, max = 180, step = 1, description = \"Step: \")\n",
    "box_layout = ipywidgets.Layout(display = 'flex', flex_flow = 'column', align_items = 'center')\n",
    "\n",
    "out = ipywidgets.Output()\n",
    "\n",
    "image = cv.imread(\"data/phantom.png\", cv.IMREAD_GRAYSCALE)\n",
    "\n",
    "sinogram = None\n",
    "\n",
    "\n",
    "def clickf(_):\n",
    "\n",
    "    with out:\n",
    "        clear_output()\n",
    "        global sinogram\n",
    "        sinogram = radon(image, phi = phi_slider.value, step = step_slider.value, count = detectors_slider.value)\n",
    "        drawable = sinogram[:, 1:]\n",
    "        figure(figsize = (8, 8))\n",
    "        imshow(drawable, cmap = \"gray\")\n",
    "        plt.show()\n",
    "\n",
    "\n",
    "button1 = ipywidgets.Button(description = \"Run simulation\")\n",
    "\n",
    "button1.on_click(clickf)\n",
    "ipywidgets.VBox([phi_slider, step_slider, detectors_slider, button1, out], layout = box_layout)\n"
   ]
  },
  {
   "cell_type": "code",
   "execution_count": 6,
   "metadata": {},
   "outputs": [
    {
     "data": {
      "application/vnd.jupyter.widget-view+json": {
       "model_id": "49924c8f005a46d2bfbb963bc1eba2e4",
       "version_major": 2,
       "version_minor": 0
      },
      "text/plain": [
       "RegularTableWidget()"
      ]
     },
     "metadata": {},
     "output_type": "display_data"
    }
   ],
   "source": [
    "from ipyregulartable import RegularTableWidget as table\n",
    "from IPython.display import display\n",
    "\n",
    "st = table(sinogram)\n",
    "display(st)"
   ]
  },
  {
   "cell_type": "code",
   "execution_count": 7,
   "metadata": {},
   "outputs": [],
   "source": [
    "def normalize(image):\n",
    "    import numpy as np\n",
    "\n",
    "    return (image - image.min()) / (image.max() - image.min())"
   ]
  },
  {
   "cell_type": "code",
   "execution_count": 8,
   "metadata": {},
   "outputs": [],
   "source": [
    "def kernel(size):\n",
    "    _kernel = np.zeros(size)\n",
    "    _kernel[size // 2] = 1\n",
    "    for k in range(1, size // 2 + 1):\n",
    "        if (k % 2 == 0):\n",
    "            _kernel[size // 2 + k] = 0\n",
    "        else:\n",
    "            _kernel[size // 2 + k] = -4 / ((k ** 2) * (np.pi ** 2))\n",
    "        _kernel[size // 2 - k] = _kernel[size // 2 + k]\n",
    "    return _kernel\n",
    "    \n",
    "\n",
    "def sinogram_filter(image, kernel):\n",
    "    import numpy as np\n",
    "    size = image.shape[0]\n",
    "    for i in range(size):\n",
    "        image[i, :] = np.convolve(image[i, :], kernel, mode = \"same\")\n",
    "\n",
    "    return image"
   ]
  },
  {
   "cell_type": "code",
   "execution_count": 14,
   "metadata": {},
   "outputs": [],
   "source": [
    "import numpy as np\n",
    "from skimage import draw\n",
    "import math\n",
    "\n",
    "\n",
    "def inverse_radon(sinogram, phi = 180, size = 0, filtering = True, phase: int = 360):\n",
    "    from skimage.util import img_as_ubyte\n",
    "\n",
    "    slices = []\n",
    "\n",
    "    if filtering:\n",
    "        _kernel = kernel(21)\n",
    "        sinogram = sinogram_filter(sinogram, _kernel)\n",
    "        # sinogram = sinogram[:, 1:]\n",
    "        # sinogram = normalize(sinogram)\n",
    "        # sinogram = img_as_ubyte(sinogram)\n",
    "        # sinogram = cv.medianBlur(sinogram, 3)\n",
    "\n",
    "    # output image as np.array\n",
    "    image = np.zeros((size, size))\n",
    "\n",
    "    # transform to radians\n",
    "    phi = np.deg2rad(phi)\n",
    "\n",
    "    # radius //można potem ramke dołożyć\n",
    "    r = size / 2\n",
    "\n",
    "    # number of iterations\n",
    "    iterations = sinogram.shape[0]\n",
    "    detectors = sinogram.shape[1]\n",
    "    step = int(math.ceil(360 / iterations))\n",
    "\n",
    "    print(f\"Iteration count: {iterations}\")\n",
    "\n",
    "    in_bounds = lambda point: point[0] >= 0 and point[0] < size and point[1] >= 0 and point[1] < size\n",
    "\n",
    "    angular_step = phi / (detectors - 1)\n",
    "\n",
    "    for iteration, alpha in enumerate(range(0, phase, step)):\n",
    "        alpha = np.deg2rad(alpha)\n",
    "\n",
    "        # Emitter position\n",
    "        x_e = r * np.cos(alpha) + r\n",
    "        y_e = r * np.sin(alpha) + r\n",
    "\n",
    "        center_angle = alpha + np.pi - phi / 2\n",
    "\n",
    "        for i in range(detectors):\n",
    "\n",
    "            # Detector position\n",
    "            x_d = r * np.cos(center_angle + i * angular_step) + r\n",
    "            y_d = r * np.sin(center_angle + i * angular_step) + r\n",
    "\n",
    "            line = draw.line_nd([x_e, y_e], [x_d, y_d])\n",
    "            line = list(filter(in_bounds, zip(*line)))\n",
    "            line = list(zip(*line))\n",
    "            image[line[1], line[0]] += sinogram[iteration, i] / len(line[0])\n",
    "\n",
    "        slices.append(normalize(image.copy()))\n",
    "\n",
    "    return slices"
   ]
  },
  {
   "cell_type": "code",
   "execution_count": 16,
   "metadata": {},
   "outputs": [
    {
     "name": "stdout",
     "output_type": "stream",
     "text": [
      "Iteration count: 360\n"
     ]
    },
    {
     "data": {
      "text/plain": [
       "<matplotlib.image.AxesImage at 0x22204fe8970>"
      ]
     },
     "execution_count": 16,
     "metadata": {},
     "output_type": "execute_result"
    },
    {
     "data": {
      "image/png": "[encoded data removed]",
      "text/plain": [
       "<Figure size 432x288 with 1 Axes>"
      ]
     },
     "metadata": {
      "needs_background": "light"
     },
     "output_type": "display_data"
    }
   ],
   "source": [
    "from matplotlib.pylab import imshow, imsave\n",
    "from matplotlib import pyplot as plt\n",
    "\n",
    "inverse = inverse_radon(sinogram, phi = phi_slider.value, size = 1024, phase = 360)\n",
    "\n",
    "imshow(inverse[-1], cmap = \"gray\")\n",
    "\n"
   ]
  },
  {
   "cell_type": "code",
   "execution_count": 17,
   "metadata": {},
   "outputs": [
    {
     "data": {
      "application/vnd.jupyter.widget-view+json": {
       "model_id": "78c2c88d55944905993e92e329d7d860",
       "version_major": 2,
       "version_minor": 0
      },
      "text/plain": [
       "interactive(children=(IntSlider(value=359, description='Phase: ', max=359), Output()), _dom_classes=('widget-i…"
      ]
     },
     "metadata": {},
     "output_type": "display_data"
    }
   ],
   "source": [
    "from ipywidgets import IntSlider, interact\n",
    "from matplotlib.pylab import imshow, figure\n",
    "\n",
    "@interact(phase = IntSlider(value = len(inverse) - 1, min = 0, max = len(inverse) - 1, step = 1, description = \"Phase: \"))\n",
    "def show_inverse(phase):\n",
    "    figure(figsize = (8, 8), dpi = 100)\n",
    "    imshow(inverse[phase], cmap = \"gray\")"
   ]
  },
  {
   "cell_type": "code",
   "execution_count": null,
   "metadata": {},
   "outputs": [],
   "source": [
    "# from matplotlib.pylab import imshow, imsave\n",
    "# imsave(\"data/writes/inverse_blur.png\", inverse, cmap = \"gray\")"
   ]
  },
  {
   "cell_type": "code",
   "execution_count": null,
   "metadata": {},
   "outputs": [],
   "source": [
    "from ipywidgets import Text, DatePicker, Button, Output\n",
    "from IPython.display import display\n",
    "\n",
    "\n",
    "class SaveState:\n",
    "    def __init__(self):\n",
    "        self.id = Text(description = \"Patient's ID\")\n",
    "        self.name = Text(description = \"Patient's Full Name\")\n",
    "        self.comments = Text(description = \"Comments\")\n",
    "        self.date = DatePicker(description = \"Study Date\")\n",
    "        self.filename = Text(description = \"File name\")\n",
    "        self.save = Button(description = \"Save\")\n",
    "        self.patient = None\n",
    "        self.save.on_click(self.save_patient_data)\n",
    "        display(self.id, self.name, self.comments, self.date, self.filename, self.save)\n",
    "\n",
    "    def save_patient_data(self, _button):\n",
    "        self.patient = {\n",
    "            \"id\": self.id.value,\n",
    "            \"name\": self.name.value,\n",
    "            \"date\": self.date.value,\n",
    "            \"comments\": self.comments.value\n",
    "        }\n",
    "\n",
    "        write_to_dicom(self.filename.value, inverse[-1], self.patient)\n",
    "\n",
    "save = SaveState()\n"
   ]
  },
  {
   "cell_type": "code",
   "execution_count": null,
   "metadata": {},
   "outputs": [],
   "source": [
    "# region TEST PURPOSE ONLY\n",
    "\n",
    "print(save.patient)\n",
    "\n",
    "# endregion TEST PURPOSE ONLY"
   ]
  },
  {
   "cell_type": "code",
   "execution_count": 11,
   "metadata": {},
   "outputs": [],
   "source": [
    "from numpy import sqrt, mean\n",
    "\n",
    "def rmse(image1, image2):\n",
    "    return sqrt(mean((image1 - image2) ** 2))\n"
   ]
  },
  {
   "cell_type": "code",
   "execution_count": null,
   "metadata": {},
   "outputs": [],
   "source": [
    "img1 = cv.imread('data/phantom.png', cv.IMREAD_GRAYSCALE)\n",
    "img2 = inverse[-1]\n",
    "print(rmse(normalize(img1), normalize(img2)))"
   ]
  },
  {
   "cell_type": "code",
   "execution_count": null,
   "metadata": {},
   "outputs": [],
   "source": [
    "# test phi value impact\n",
    "test_image = cv.imread('data/phantom.png', cv.IMREAD_GRAYSCALE)\n",
    "\n",
    "file = open('phi.txt', 'w+')\n",
    "file.write('phi\\trmse\\n')\n",
    "\n",
    "for phi_v in range(45, 271, 45):\n",
    "    test_sinogram = radon(test_image, phi=phi_v,\n",
    "                          step=2, count=180)\n",
    "    reconstructed = inverse_radon(\n",
    "        sinogram=test_sinogram, phi=phi_v, size=test_image[0].shape[0])\n",
    "\n",
    "    RMSE = rmse(normalize(test_image), normalize(reconstructed[-1]))\n",
    "    file.write(str(phi_v) + '\\t' + str(RMSE) + '\\n')\n",
    "\n",
    "file.close()"
   ]
  },
  {
   "cell_type": "code",
   "execution_count": null,
   "metadata": {},
   "outputs": [],
   "source": [
    "# test scan number impact\n",
    "test_image = cv.imread('data/phantom.png', cv.IMREAD_GRAYSCALE)\n",
    "file = open('scans.txt', 'w+')\n",
    "file.write('scans\\trmse\\n')\n",
    "for scan_number in range(90, 721, 90):\n",
    "    test_sinogram = radon(image, phi=2,\n",
    "                          step=360/scan_number, count=180)\n",
    "    reconstructed = inverse_radon(\n",
    "        sinogram=test_sinogram, phi=2, size=test_image[0].shape[0])\n",
    "\n",
    "    RMSE = rmse(normalize(test_image), normalize(reconstructed[-1]))\n",
    "    file.write(str(scan_number) + '\\t' + str(RMSE) + '\\n')\n",
    "file.close()"
   ]
  },
  {
   "cell_type": "code",
   "execution_count": null,
   "metadata": {},
   "outputs": [],
   "source": [
    "# test detectors number impact\n",
    "test_image = cv.imread('data/phantom.png', cv.IMREAD_GRAYSCALE)\n",
    "file = open('detectors.txt', 'w+')\n",
    "file.write('detectors\\trmse\\n')\n",
    "for detectors_number in range(90, 721, 90):\n",
    "    test_sinogram = radon(image, phi=180,\n",
    "                          step=2, count=detectors_number)\n",
    "    reconstructed = inverse_radon(\n",
    "        sinogram=test_sinogram, phi=180, size=test_image[0].shape[0])\n",
    "\n",
    "    RMSE = rmse(normalize(test_image), normalize(reconstructed[-1]))\n",
    "    file.write(str(detectors_number) + '\\t' + str(RMSE) + '\\n')\n",
    "\n",
    "file.close()"
   ]
  },
  {
   "cell_type": "code",
   "execution_count": 20,
   "metadata": {},
   "outputs": [
    {
     "data": {
      "image/png": "[encoded data removed]",
      "text/plain": [
       "<Figure size 432x288 with 1 Axes>"
      ]
     },
     "metadata": {
      "needs_background": "light"
     },
     "output_type": "display_data"
    }
   ],
   "source": [
    "file = open('detectors.txt', 'r+')\n",
    "data = [line for line in file]\n",
    "x = [line.split('\\t')[0] for line in data][1:]\n",
    "y = [line.split('\\t')[1][:10] for line in data][1:]\n",
    "x = [int(i) for i in x]\n",
    "y = [float(i) for i in y]\n",
    "file.close()\n",
    "plt.plot(x,y)\n",
    "plt.plot(x, y)\n",
    "plt.ylabel('RMSE')\n",
    "plt.grid(linestyle='-')\n",
    "plt.xlabel('number of detectors')\n",
    "plt.xticks([x for x in range(90, 721, 90)]);\n",
    "plt.savefig('report/detectors.png')"
   ]
  },
  {
   "cell_type": "code",
   "execution_count": 19,
   "metadata": {},
   "outputs": [
    {
     "data": {
      "image/png": "[encoded data removed]",
      "text/plain": [
       "<Figure size 432x288 with 1 Axes>"
      ]
     },
     "metadata": {
      "needs_background": "light"
     },
     "output_type": "display_data"
    }
   ],
   "source": [
    "file = open('scans.txt', 'r+')\n",
    "data = [line for line in file]\n",
    "x = [line.split('\\t')[0] for line in data][1:]\n",
    "y = [line.split('\\t')[1][:10] for line in data][1:]\n",
    "x = [int(i) for i in x]\n",
    "y = [float(i) for i in y]\n",
    "file.close()\n",
    "plt.plot(x, y)\n",
    "plt.ylabel('RMSE')\n",
    "plt.grid(linestyle='-')\n",
    "plt.xlabel('number of scans')\n",
    "plt.xticks([x for x in range(90, 721, 90)]);\n",
    "plt.savefig('report/scans.png')"
   ]
  },
  {
   "cell_type": "code",
   "execution_count": 18,
   "metadata": {},
   "outputs": [
    {
     "data": {
      "image/png": "[encoded data removed]",
      "text/plain": [
       "<Figure size 432x288 with 1 Axes>"
      ]
     },
     "metadata": {
      "needs_background": "light"
     },
     "output_type": "display_data"
    }
   ],
   "source": [
    "file = open('phi.txt', 'r+')\n",
    "data = [line for line in file]\n",
    "x = [line.split('\\t')[0] for line in data][1:]\n",
    "y = [line.split('\\t')[1][:10] for line in data][1:]\n",
    "x = [int(i) for i in x]\n",
    "y = [float(i) for i in y]\n",
    "file.close()\n",
    "plt.plot(x,y)\n",
    "plt.plot(x, y)\n",
    "plt.ylabel('RMSE')\n",
    "plt.grid(linestyle='-')\n",
    "plt.xlabel('angular span (phi)')\n",
    "plt.xticks([x for x in range(45, 271, 45)]);\n",
    "plt.savefig('report/phi.png')"
   ]
  },
  {
   "cell_type": "code",
   "execution_count": 12,
   "metadata": {},
   "outputs": [
    {
     "name": "stdout",
     "output_type": "stream",
     "text": [
      "Iteration count: 360\n"
     ]
    },
    {
     "data": {
      "text/plain": [
       "array([[0., 0., 0., ..., 0., 0., 0.],\n",
       "       [0., 0., 0., ..., 0., 0., 0.],\n",
       "       [0., 0., 0., ..., 0., 0., 0.],\n",
       "       ...,\n",
       "       [0., 0., 0., ..., 0., 0., 0.],\n",
       "       [0., 0., 0., ..., 0., 0., 0.],\n",
       "       [0., 0., 0., ..., 0., 0., 0.]])"
      ]
     },
     "execution_count": 12,
     "metadata": {},
     "output_type": "execute_result"
    }
   ],
   "source": [
    "import numpy as np\n",
    "from skimage import draw\n",
    "import math\n",
    "\n",
    "\n",
    "def inverse_radon_progress(src_image, sinogram, phi=180, size=0):\n",
    "\n",
    "    \n",
    "    # _kernel = kernel(21)\n",
    "    # sinogram = sinogram_filter(sinogram, _kernel)\n",
    "\n",
    "    # output image as np.array\n",
    "    image = np.zeros((size, size))\n",
    "\n",
    "    # transform to radians\n",
    "    phi = np.deg2rad(phi)\n",
    "\n",
    "    # radius //można potem ramke dołożyć\n",
    "    r = size / 2\n",
    "\n",
    "    # number of iterations\n",
    "    iterations = sinogram.shape[0]\n",
    "    detectors = sinogram.shape[1]\n",
    "    step = int(math.ceil(360 / iterations))\n",
    "\n",
    "    print(f\"Iteration count: {iterations}\")\n",
    "\n",
    "    def in_bounds(\n",
    "        point): return point[0] >= 0 and point[0] < size and point[1] >= 0 and point[1] < size\n",
    "\n",
    "    angular_step = phi / (detectors - 1)\n",
    "\n",
    "    file = open('inverse_progress.txt', 'w+')\n",
    "    file.write('i\\trmse\\n')\n",
    "\n",
    "    for iteration, alpha in enumerate(range(0, 360, step)):\n",
    "        alpha = np.deg2rad(alpha)\n",
    "\n",
    "        # Emitter position\n",
    "        x_e = r * np.cos(alpha) + r\n",
    "        y_e = r * np.sin(alpha) + r\n",
    "\n",
    "        center_angle = alpha + np.pi - phi / 2\n",
    "\n",
    "        for i in range(detectors):\n",
    "\n",
    "            # Detector position\n",
    "            x_d = r * np.cos(center_angle + i * angular_step) + r\n",
    "            y_d = r * np.sin(center_angle + i * angular_step) + r\n",
    "\n",
    "            line = draw.line_nd([x_e, y_e], [x_d, y_d])\n",
    "            line = list(filter(in_bounds, zip(*line)))\n",
    "            line = list(zip(*line))\n",
    "            image[line[1], line[0]] += sinogram[iteration, i] / len(line[0])\n",
    "        \n",
    "        RMSE = rmse(normalize(src_image), normalize(image))\n",
    "\n",
    "        file.write(str(iteration) + '\\t' + str(RMSE) + '\\n')\n",
    "\n",
    "    file.close()\n",
    "    return normalize(image)\n",
    "\n",
    "image = cv.imread(\"data/phantom.png\", cv.IMREAD_GRAYSCALE)\n",
    "\n",
    "inverse_radon_progress(src_image=image, sinogram=sinogram, phi = phi_slider.value, size = 1024)\n"
   ]
  },
  {
   "cell_type": "code",
   "execution_count": 13,
   "metadata": {},
   "outputs": [
    {
     "data": {
      "image/png": "[encoded data removed]",
      "text/plain": [
       "<Figure size 432x288 with 1 Axes>"
      ]
     },
     "metadata": {
      "needs_background": "light"
     },
     "output_type": "display_data"
    }
   ],
   "source": [
    "file = open('inverse_progress.txt', 'r+')\n",
    "data = [line for line in file]\n",
    "x = [line.split('\\t')[0] for line in data][1:]\n",
    "y = [line.split('\\t')[1][:10] for line in data][1:]\n",
    "x = [int(i) for i in x]\n",
    "y = [float(i) for i in y]\n",
    "file.close()\n",
    "plt.plot(x, y)\n",
    "plt.ylabel('RMSE')\n",
    "plt.grid(linestyle='-')\n",
    "plt.xlabel('iteration')\n",
    "plt.xticks([x for x in range(0, 361, 30)]);\n",
    "plt.savefig('report/change_no_convolve.png')"
   ]
  },
  {
   "cell_type": "code",
   "execution_count": null,
   "metadata": {},
   "outputs": [],
   "source": [
    "# 5.c\n",
    "sample_image1 = cv.imread(\"data/phantom.png\", cv.IMREAD_GRAYSCALE)\n",
    "sample_image2 = cv.imread(\"data/squares_large.png\", cv.IMREAD_GRAYSCALE)\n",
    "sample_sinogram1 = radon(sample_image1, phi=270, step=1, count=360)\n",
    "sample_sinogram2 = radon(sample_image2, phi=270, step=1, count=360)\n",
    "reconstructed1 = inverse_radon(sinogram=sample_sinogram1, phi=270, size=1024, filtering=False)\n",
    "reconstructed2 = inverse_radon(sinogram=sample_sinogram2, phi=270, size=384, filtering=False)\n",
    "\n",
    "reconstructed_filtered1 = inverse_radon(sinogram=sample_sinogram1, phi=270, size=1024, filtering=True)\n",
    "reconstructed_filtered2 = inverse_radon(sinogram=sample_sinogram2, phi=270, size=384, filtering=True)\n",
    "\n",
    "RMSE1 = rmse(normalize(sample_image1), normalize(reconstructed1[-1]))\n",
    "RMSE2 = rmse(normalize(sample_image2), normalize(reconstructed2[-1]))\n",
    "\n",
    "RMSE_filtered1 = rmse(normalize(sample_image1), normalize(reconstructed_filtered1[-1]))\n",
    "RMSE_filtered2 = rmse(normalize(sample_image2), normalize(reconstructed_filtered2[-1]))\n",
    "\n",
    "\n",
    "imshow(reconstructed1)"
   ]
  },
  {
   "cell_type": "code",
   "execution_count": null,
   "metadata": {},
   "outputs": [],
   "source": [
    "imshow(reconstructed_filtered1[-1], cmap='gray')\n",
    "\n",
    "print('RMSE1', RMSE1)\n",
    "print('RMSE2', RMSE2)\n",
    "print('RMSE1 filtered', RMSE_filtered1)\n",
    "print('RMSE2 filtered', RMSE_filtered2)\n"
   ]
  },
  {
   "cell_type": "code",
   "execution_count": null,
   "metadata": {},
   "outputs": [],
   "source": [
    "imshow(reconstructed_filtered1[-1], cmap='gray')\n",
    "imsave('report/reconstructed_filtered1.png', reconstructed_filtered1[-1], cmap='gray')\n",
    "imsave('report/reconstructed_filtered2.png', reconstructed_filtered2[-1], cmap='gray')\n",
    "imsave('report/reconstructed1.png', reconstructed1[-1], cmap='gray')\n",
    "imsave('report/reconstructed2.png', reconstructed2[-1], cmap='gray')"
   ]
  }
 ],
 "metadata": {
  "interpreter": {
   "hash": "c8109721cca9e0a01cb5d763d460807f0f35644545fab166f56089221f2986a5"
  },
  "kernelspec": {
   "display_name": "Python 3.10.0b3 ('.venv': pipenv)",
   "language": "python",
   "name": "python3"
  },
  "language_info": {
   "codemirror_mode": {
    "name": "ipython",
    "version": 3
   },
   "file_extension": ".py",
   "mimetype": "text/x-python",
   "name": "python",
   "nbconvert_exporter": "python",
   "pygments_lexer": "ipython3",
   "version": "3.9.7"
  },
  "orig_nbformat": 4
 },
 "nbformat": 4,
 "nbformat_minor": 2
}
